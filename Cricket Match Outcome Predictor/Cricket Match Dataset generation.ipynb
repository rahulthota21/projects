{
 "cells": [
  {
   "cell_type": "markdown",
   "id": "66a71d81-cae1-4bf7-b6c9-ea7385440db8",
   "metadata": {},
   "source": [
    "# **Cricket Match Outcome Prediction: Feature Generation**"
   ]
  },
  {
   "cell_type": "markdown",
   "id": "b5b8f953-da3f-428a-81a0-1f980f0626a3",
   "metadata": {},
   "source": [
    "## Problem Description:\n",
    "The goal of this project is to predict the outcome of a cricket match (Win, Loss, or Draw) based on various match-related features, including player performance, team stats, environmental factors, and historical data. The model can be trained on past match data to provide predictions for future matches, assisting fans, analysts, and even betting platforms in understanding match dynamics."
   ]
  },
  {
   "cell_type": "markdown",
   "id": "94879312-b687-4521-a582-ac89765bccbc",
   "metadata": {},
   "source": [
    "## **Importing Libraries**"
   ]
  },
  {
   "cell_type": "code",
   "execution_count": 1,
   "id": "89adfcbc-613a-48f6-8bba-5400c6f3322a",
   "metadata": {},
   "outputs": [],
   "source": [
    "import pandas as pd\n",
    "import numpy as np"
   ]
  },
  {
   "cell_type": "markdown",
   "id": "f6fa635f-ac3b-4ce7-8f3d-6ce4619f3045",
   "metadata": {},
   "source": [
    "## Step 1: Team Batting Average\n",
    "This step generates the **Team Batting Average** feature based on the following logic:\n",
    "- Values range based on the match format:\n",
    "  - ODIs: 200–350\n",
    "  - T20s: 120–220\n",
    "  - Tests: 300–450 (innings basis)\n",
    "- Outliers reflect extraordinary matches (e.g., high-scoring games)."
   ]
  },
  {
   "cell_type": "code",
   "execution_count": 2,
   "id": "9492ea8c-9c82-485a-a8e8-424d9040dcbb",
   "metadata": {},
   "outputs": [],
   "source": [
    "# Initialize the dataset with an empty DataFrame\n",
    "num_samples = 100000  # Number of matches\n",
    "dataset = pd.DataFrame()"
   ]
  },
  {
   "cell_type": "code",
   "execution_count": 3,
   "id": "d8262b8f-a800-45d8-be51-7947b179a246",
   "metadata": {},
   "outputs": [],
   "source": [
    "# Define the match format\n",
    "# 0: Test, 1: ODI, 2: T20\n",
    "np.random.seed(42)  # For reproducibility\n",
    "dataset['Match_Format'] = np.random.choice([0, 1, 2], size=num_samples, p=[0.2, 0.5, 0.3])"
   ]
  },
  {
   "cell_type": "code",
   "execution_count": 4,
   "id": "f7c8b504-da12-4144-8fd1-7f9ec1d3784e",
   "metadata": {},
   "outputs": [],
   "source": [
    "# Generate Team Batting Average based on Match Format\n",
    "def generate_batting_average(match_format):\n",
    "    if match_format == 0:  # Test\n",
    "        return np.random.randint(300, 451)\n",
    "    elif match_format == 1:  # ODI\n",
    "        return np.random.randint(200, 351)\n",
    "    else:  # T20\n",
    "        return np.random.randint(120, 221)"
   ]
  },
  {
   "cell_type": "code",
   "execution_count": 5,
   "id": "0f00793e-d6eb-45bd-8454-9907fe034861",
   "metadata": {},
   "outputs": [],
   "source": [
    "# Apply the function to generate the feature\n",
    "dataset['Team_Batting_Average'] = dataset['Match_Format'].apply(generate_batting_average)"
   ]
  },
  {
   "cell_type": "markdown",
   "id": "dcecccbc-c344-4650-88b1-39e93cd7e655",
   "metadata": {},
   "source": [
    "## Step 2: Team Bowling Average\n",
    "This step generates the **Team Bowling Average** feature based on the following logic:\n",
    "- Values range based on the match format:\n",
    "  - ODIs: 25–50\n",
    "  - T20s: 20–40\n",
    "  - Tests: 30–55\n",
    "- Lower values indicate stronger bowling performance.\n",
    "- Pitch conditions such as spin-friendly pitches may influence the bowling average."
   ]
  },
  {
   "cell_type": "code",
   "execution_count": 6,
   "id": "647f1fd8-1af3-4669-8491-36a0a772a3b0",
   "metadata": {},
   "outputs": [],
   "source": [
    "# Add Pitch Type to simulate bowling conditions\n",
    "# 0: Batting-friendly, 1: Spin-friendly, 2: Fast-bowler-friendly\n",
    "dataset['Pitch_Type'] = np.random.choice([0, 1, 2], size=num_samples, p=[0.4, 0.3, 0.3])"
   ]
  },
  {
   "cell_type": "code",
   "execution_count": 7,
   "id": "3a90b9a3-8d84-4709-8fea-3ca3e3c1dabc",
   "metadata": {},
   "outputs": [],
   "source": [
    "# Generate Team Bowling Average based on Match Format and Pitch Type\n",
    "def generate_bowling_average(row):\n",
    "    match_format = row['Match_Format']\n",
    "    pitch_type = row['Pitch_Type']\n",
    "    \n",
    "    if match_format == 0:  # Test\n",
    "        base = np.random.randint(30, 56)\n",
    "    elif match_format == 1:  # ODI\n",
    "        base = np.random.randint(25, 51)\n",
    "    else:  # T20\n",
    "        base = np.random.randint(20, 41)\n",
    "    \n",
    "    # Adjust for pitch type\n",
    "    if pitch_type == 1:  # Spin-friendly\n",
    "        return max(base - np.random.randint(2, 6), 20)\n",
    "    elif pitch_type == 2:  # Fast-bowler-friendly\n",
    "        return max(base - np.random.randint(1, 4), 20)\n",
    "    else:  # Batting-friendly\n",
    "        return min(base + np.random.randint(1, 6), 55)"
   ]
  },
  {
   "cell_type": "code",
   "execution_count": 8,
   "id": "1ee57b3d-0738-4e8c-9295-0af53cc39495",
   "metadata": {},
   "outputs": [],
   "source": [
    "# Apply the function to generate the feature\n",
    "dataset['Team_Bowling_Average'] = dataset.apply(generate_bowling_average, axis=1)"
   ]
  },
  {
   "cell_type": "markdown",
   "id": "840bf900-3119-4779-9e41-034bf3f608da",
   "metadata": {},
   "source": [
    "## Step 3: Home/Away Game\n",
    "This step generates the **Home/Away Game** feature based on the following logic:\n",
    "- The match location can be:\n",
    "  - Home: 1\n",
    "  - Away: 0\n",
    "  - Neutral: 2\n",
    "- Home matches generally favor the team due to familiarity with conditions and crowd support.\n",
    "- Assign probabilities:\n",
    "  - Home: 50%\n",
    "  - Away: 30%\n",
    "  - Neutral: 20%"
   ]
  },
  {
   "cell_type": "code",
   "execution_count": 9,
   "id": "71a592f1-8220-4d74-bf4e-2e4e7793b5be",
   "metadata": {},
   "outputs": [],
   "source": [
    "# Generate Home/Away Game feature\n",
    "# 1: Home, 0: Away, 2: Neutral\n",
    "dataset['Home_Away_Game'] = np.random.choice([1, 0, 2], size=num_samples, p=[0.5, 0.3, 0.2])"
   ]
  },
  {
   "cell_type": "markdown",
   "id": "824a2cf1-e490-49ec-af41-f889f6e9e67f",
   "metadata": {},
   "source": [
    "## Step 4: Recent Form\n",
    "This step generates the **Recent Form** feature based on the following logic:\n",
    "- Values range from 0 to 5, representing the number of matches won in the last 5 games.\n",
    "- Include diverse teams:\n",
    "  - Strong teams: 4–5 wins.\n",
    "  - Weak teams: 0–2 wins.\n",
    "  - Average teams: 2–3 wins.\n"
   ]
  },
  {
   "cell_type": "code",
   "execution_count": 10,
   "id": "0c7289c4-fc80-427d-b0a6-1e1f1ce12a46",
   "metadata": {},
   "outputs": [],
   "source": [
    "# Generate Recent Form feature\n",
    "def generate_recent_form():\n",
    "    # Assign probabilities for win counts\n",
    "    return np.random.choice([0, 1, 2, 3, 4, 5], p=[0.1, 0.15, 0.2, 0.25, 0.2, 0.1])"
   ]
  },
  {
   "cell_type": "code",
   "execution_count": 11,
   "id": "9644da14-9b78-4913-96b0-1cdd16f9fbde",
   "metadata": {},
   "outputs": [],
   "source": [
    "dataset['Recent_Form'] = [generate_recent_form() for _ in range(num_samples)]"
   ]
  },
  {
   "cell_type": "markdown",
   "id": "1311629b-494c-401e-81a9-d05e272d3248",
   "metadata": {},
   "source": [
    "## Step 5: Team Experience\n",
    "This step generates the **Team Experience** feature based on the following logic:\n",
    "- Values range from 500 to 1500 matches, representing the sum of all players' match experience.\n",
    "- Logic:\n",
    "  - Experienced teams: 1200–1500.\n",
    "  - Balanced teams: 800–1200.\n",
    "  - Inexperienced teams: 500–800.\n",
    "- Factor in squad changes due to injuries or retirements by introducing variability.\n"
   ]
  },
  {
   "cell_type": "code",
   "execution_count": 12,
   "id": "5b878661-6459-4ff7-a9d4-2f7002c0c2a5",
   "metadata": {},
   "outputs": [],
   "source": [
    "# Generate Team Experience feature\n",
    "def generate_team_experience():\n",
    "    # Assign probabilities for experience levels\n",
    "    if np.random.rand() < 0.3:  # 30% chance for experienced teams\n",
    "        return np.random.randint(1200, 1501)\n",
    "    elif np.random.rand() < 0.5:  # 50% chance for balanced teams\n",
    "        return np.random.randint(800, 1201)\n",
    "    else:  # 20% chance for inexperienced teams\n",
    "        return np.random.randint(500, 801)"
   ]
  },
  {
   "cell_type": "code",
   "execution_count": 13,
   "id": "6900d719-1928-4f4f-a06b-5facd56b2b0d",
   "metadata": {},
   "outputs": [],
   "source": [
    "dataset['Team_Experience'] = [generate_team_experience() for _ in range(num_samples)]"
   ]
  },
  {
   "cell_type": "markdown",
   "id": "091901c5-e583-4698-9a3d-837f7f47bb16",
   "metadata": {},
   "source": [
    "## Step 6: Batting Depth\n",
    "This step generates the **Batting Depth** feature based on the following logic:\n",
    "- Values range from 5 to 11, representing the number of capable batsmen in the lineup.\n",
    "- Logic:\n",
    "  - Higher values indicate deeper batting lineups.\n",
    "  - T20 teams typically have deeper batting lineups (close to 11).\n",
    "  - Test teams may have fewer (closer to 5 or 6).\n",
    "  - ODIs usually fall in between.\n"
   ]
  },
  {
   "cell_type": "code",
   "execution_count": 14,
   "id": "30e8c15f-58d3-4f98-90bc-8dd917191fd0",
   "metadata": {},
   "outputs": [],
   "source": [
    "# Generate Batting Depth feature\n",
    "def generate_batting_depth(match_format):\n",
    "    if match_format == 0:  # Test\n",
    "        return np.random.randint(5, 7)  # Fewer capable batsmen\n",
    "    elif match_format == 1:  # ODI\n",
    "        return np.random.randint(6, 9)  # Balanced lineup\n",
    "    else:  # T20\n",
    "        return np.random.randint(9, 12)  # Deeper lineup"
   ]
  },
  {
   "cell_type": "code",
   "execution_count": 15,
   "id": "07db0167-091c-455e-8284-61d5374197ac",
   "metadata": {},
   "outputs": [],
   "source": [
    "dataset['Batting_Depth'] = dataset['Match_Format'].apply(generate_batting_depth)"
   ]
  },
  {
   "cell_type": "markdown",
   "id": "f14f92fd-064a-4479-a9c7-e165f91975b1",
   "metadata": {},
   "source": [
    "## Step 7: Bowling Depth\n",
    "This step generates the **Bowling Depth** feature based on the following logic:\n",
    "- Values range from 3 to 6, representing the number of quality bowlers in the lineup.\n",
    "- Logic:\n",
    "  - Teams with 6 bowlers have a deeper bowling attack, typically for formats like Tests.\n",
    "  - Teams with 3-4 bowlers are more common in T20 and ODI formats.\n"
   ]
  },
  {
   "cell_type": "code",
   "execution_count": 16,
   "id": "44ca5ea5-2b0f-4b1d-89c5-fc25eb84b82b",
   "metadata": {},
   "outputs": [],
   "source": [
    "# Generate Bowling Depth feature\n",
    "def generate_bowling_depth(match_format):\n",
    "    if match_format == 0:  # Test\n",
    "        return np.random.randint(4, 7)  # More quality bowlers\n",
    "    elif match_format == 1:  # ODI\n",
    "        return np.random.randint(3, 6)  # Balanced bowling attack\n",
    "    else:  # T20\n",
    "        return np.random.randint(3, 5)  # Shorter formats, fewer bowlers"
   ]
  },
  {
   "cell_type": "code",
   "execution_count": 17,
   "id": "7a49f489-251b-4d4f-8450-f327c8d62570",
   "metadata": {},
   "outputs": [],
   "source": [
    "dataset['Bowling_Depth'] = dataset['Match_Format'].apply(generate_bowling_depth)"
   ]
  },
  {
   "cell_type": "markdown",
   "id": "fa38f1db-9d88-4109-8cf0-91ed7c28e795",
   "metadata": {},
   "source": [
    "## Step 8: Weather Conditions\n",
    "This step generates the **Weather Conditions** feature based on the following logic:\n",
    "- Values:\n",
    "  - Sunny: 0\n",
    "  - Overcast: 1\n",
    "  - Rainy: 2\n",
    "  - Humid: 3\n",
    "- Logic:\n",
    "  - Overcast conditions may favor bowlers, especially swing bowlers.\n",
    "  - Rainy conditions could lead to match interruptions or reduced overs.\n",
    "  - Sunny conditions typically favor batting."
   ]
  },
  {
   "cell_type": "code",
   "execution_count": 18,
   "id": "aa93e149-788d-4607-94c9-d37777b3b2fd",
   "metadata": {},
   "outputs": [],
   "source": [
    "# Generate Weather Conditions feature\n",
    "weather_conditions = ['Sunny', 'Overcast', 'Rainy', 'Humid']\n",
    "dataset['Weather_Conditions'] = np.random.choice(weather_conditions, size=num_samples)"
   ]
  },
  {
   "cell_type": "markdown",
   "id": "ebdef4c1-86d7-4f78-af90-c7be3f58d5fc",
   "metadata": {},
   "source": [
    "## Step 11: Toss Winner\n",
    "This step generates the **Toss Winner** feature based on the following logic:\n",
    "- Values:\n",
    "  - Team A: 0\n",
    "  - Team B: 1\n",
    "- Logic:\n",
    "  - Toss winners often have an advantage, especially in conditions like dew or overcast skies.\n",
    "  - The toss result is randomly assigned here for simulation purposes.\n"
   ]
  },
  {
   "cell_type": "code",
   "execution_count": 19,
   "id": "7d9f419d-3b70-403d-b051-bb9f9dd77d95",
   "metadata": {},
   "outputs": [],
   "source": [
    "# Generate Toss Winner feature\n",
    "dataset['Toss_Winner'] = np.random.choice([0, 1], size=num_samples)"
   ]
  },
  {
   "cell_type": "markdown",
   "id": "f555163d-c858-4b9b-b2c9-96416674a40a",
   "metadata": {},
   "source": [
    "## Step 12: Team's Overall Batting Strength\n",
    "This step generates the **Team's Overall Batting Strength** feature based on the following logic:\n",
    "- Values range from 200 to 400, calculated as the sum of the average runs scored by the top 5 batsmen.\n",
    "- Logic:\n",
    "  - Higher values indicate stronger batting strength.\n",
    "  - The batting strength can vary depending on the match format (e.g., higher in ODIs and T20s).\n"
   ]
  },
  {
   "cell_type": "code",
   "execution_count": 20,
   "id": "7723c78f-38cd-4381-842d-4976bdb38ce1",
   "metadata": {},
   "outputs": [],
   "source": [
    "# Generate Team's Overall Batting Strength feature\n",
    "def generate_batting_strength(match_format):\n",
    "    if match_format == 0:  # Test\n",
    "        return np.random.randint(200, 300)  # Lower batting strength in Tests\n",
    "    elif match_format == 1:  # ODI\n",
    "        return np.random.randint(300, 350)  # Balanced for ODIs\n",
    "    else:  # T20\n",
    "        return np.random.randint(350, 400)  # Strong batting for T20"
   ]
  },
  {
   "cell_type": "code",
   "execution_count": 21,
   "id": "b20e9609-2360-416d-b355-abf3500d3f31",
   "metadata": {},
   "outputs": [],
   "source": [
    "dataset['Batting_Strength'] = dataset['Match_Format'].apply(generate_batting_strength)"
   ]
  },
  {
   "cell_type": "markdown",
   "id": "a6657460-bb1b-475a-95cd-5c1ae0b1af6a",
   "metadata": {},
   "source": [
    "## Step 13: Team's Overall Bowling Strength\n",
    "This step generates the **Team's Overall Bowling Strength** feature based on the following logic:\n",
    "- Values range from 15 to 50, calculated as the sum of the average wickets taken by the top 5 bowlers.\n",
    "- Logic:\n",
    "  - Lower values indicate better bowling performance, as fewer runs are conceded.\n",
    "  - The bowling strength can vary depending on the match format (e.g., more focus on pace in T20s and ODIs).\n"
   ]
  },
  {
   "cell_type": "code",
   "execution_count": 22,
   "id": "f4027be2-1551-4bf4-a933-4b1d630e18e3",
   "metadata": {},
   "outputs": [],
   "source": [
    "# Generate Team's Overall Bowling Strength feature\n",
    "def generate_bowling_strength(match_format):\n",
    "    if match_format == 0:  # Test\n",
    "        return np.random.randint(30, 40)  # Stronger bowling in Tests\n",
    "    elif match_format == 1:  # ODI\n",
    "        return np.random.randint(20, 30)  # Balanced bowling for ODIs\n",
    "    else:  # T20\n",
    "        return np.random.randint(15, 25)  # Lower for T20s as focus is on batting"
   ]
  },
  {
   "cell_type": "code",
   "execution_count": 23,
   "id": "f1e2d5e3-6656-48b4-bb7b-20ca22266bf6",
   "metadata": {},
   "outputs": [],
   "source": [
    "dataset['Bowling_Strength'] = dataset['Match_Format'].apply(generate_bowling_strength)"
   ]
  },
  {
   "cell_type": "markdown",
   "id": "9555c335-e3f5-4ee1-9638-b9810866465e",
   "metadata": {},
   "source": [
    "## Step 14: Adding Team A and Team B Country Features\n",
    "We need to add **Team A Country** and **Team B Country** features to the dataset. These columns will represent the countries of the two teams playing in the match.\n",
    "- **Team A Country** and **Team B Country** will be randomly chosen from the list of cricket-playing nations.\n"
   ]
  },
  {
   "cell_type": "code",
   "execution_count": 24,
   "id": "7346256f-315b-44ca-b16a-5acb15defab6",
   "metadata": {},
   "outputs": [],
   "source": [
    "# List of cricket-playing countries (for demonstration)\n",
    "cricket_countries = ['India', 'Australia', 'England', 'New Zealand', 'South Africa', 'Pakistan', \n",
    "                     'Sri Lanka', 'West Indies', 'Bangladesh', 'Afghanistan', 'Zimbabwe', 'Ireland']"
   ]
  },
  {
   "cell_type": "code",
   "execution_count": 25,
   "id": "8aee3256-b5a3-449b-8c97-9224ef8aa7a6",
   "metadata": {},
   "outputs": [],
   "source": [
    "# Generate Team A and Team B countries ensuring they are from the same pool\n",
    "def generate_team_countries():\n",
    "    team_a_country = np.random.choice(cricket_countries)\n",
    "    # Ensure Team B is different from Team A, but still a cricket-playing country\n",
    "    team_b_country = np.random.choice([country for country in cricket_countries if country != team_a_country])\n",
    "    return team_a_country, team_b_country"
   ]
  },
  {
   "cell_type": "code",
   "execution_count": 26,
   "id": "c6116336-e653-45c3-9271-ef507dd9a31b",
   "metadata": {},
   "outputs": [],
   "source": [
    "# Add Team_A_Country and Team_B_Country to the dataset\n",
    "dataset[['Team_A_Country', 'Team_B_Country']] = [generate_team_countries() for _ in range(len(dataset))]"
   ]
  },
  {
   "cell_type": "markdown",
   "id": "c0e440e4-d332-44f5-9e38-7692de033563",
   "metadata": {},
   "source": [
    "## Step 15: Head-to-Head Results\n",
    "Now that we've added **Team A Country** and **Team B Country**, we can generate the **Head-to-Head Results** feature based on these columns.\n",
    "- **Head-to-Head Results** will represent the historical win/loss record between the two teams in the same match format.\n",
    "- The values will be generated randomly in the range of 0.1 to 5.0.\n"
   ]
  },
  {
   "cell_type": "code",
   "execution_count": 27,
   "id": "35dac82b-4db4-4f38-91c6-8fbbe4566fa0",
   "metadata": {},
   "outputs": [],
   "source": [
    "# Generate Head-to-Head Results feature based on Team_A_Country and Team_B_Country\n",
    "def generate_head_to_head(team_a_country, team_b_country):\n",
    "    # Generate a random win/loss ratio between 0.1 and 5.0 based on countries\n",
    "    return np.random.uniform(0.1, 5.0)"
   ]
  },
  {
   "cell_type": "code",
   "execution_count": 28,
   "id": "c9e975ba-e232-48e6-b63f-7f88e38f2ce9",
   "metadata": {},
   "outputs": [],
   "source": [
    "dataset['Head_to_Head'] = dataset.apply(lambda row: generate_head_to_head(row['Team_A_Country'], row['Team_B_Country']), axis=1)"
   ]
  },
  {
   "cell_type": "markdown",
   "id": "51538907-631e-4305-adbd-de8aae5dbc2f",
   "metadata": {},
   "source": [
    "## Step 16: Fielding Efficiency\n",
    "This step generates the **Fielding Efficiency** feature, which measures the percentage of successful fielding actions like catches, run-outs, and stops.\n",
    "- **Fielding Efficiency** will range from 0.5 (50%) to 1.0 (100%).\n",
    "- The higher the value, the better the team's fielding performance.\n"
   ]
  },
  {
   "cell_type": "code",
   "execution_count": 29,
   "id": "04003024-bd35-4953-8b19-b188fa4decb3",
   "metadata": {},
   "outputs": [],
   "source": [
    "# Generate Fielding Efficiency feature\n",
    "def generate_fielding_efficiency():\n",
    "    # Randomly generate fielding efficiency between 50% and 100% (0.5 to 1.0)\n",
    "    return np.random.uniform(0.5, 1.0)"
   ]
  },
  {
   "cell_type": "code",
   "execution_count": 30,
   "id": "74167db3-7cea-4af6-a7cf-53d047c7a6f8",
   "metadata": {},
   "outputs": [],
   "source": [
    "dataset['Fielding_Efficiency'] = dataset.apply(lambda row: generate_fielding_efficiency(), axis=1)"
   ]
  },
  {
   "cell_type": "markdown",
   "id": "323ae458-b898-4205-9e28-fd2804b342bb",
   "metadata": {},
   "source": [
    "## Step 17: Captain's Score\n",
    "This step generates the **Captain's Score** feature, which is a composite score based on the captain's leadership and personal performance.\n",
    "- **Captain's Score** will range from 1 to 10, where higher values indicate a better captain.\n"
   ]
  },
  {
   "cell_type": "code",
   "execution_count": 31,
   "id": "b9e1d201-c992-45ed-867d-6849f4d3c1c6",
   "metadata": {},
   "outputs": [],
   "source": [
    "# Generate Captain's Score feature\n",
    "def generate_captains_score():\n",
    "    # Randomly generate captain's score between 1 and 10\n",
    "    return np.random.randint(1, 11)"
   ]
  },
  {
   "cell_type": "code",
   "execution_count": 32,
   "id": "26f8764d-2a1e-491e-84e7-4f2efe0d0856",
   "metadata": {},
   "outputs": [],
   "source": [
    "dataset['Captains_Score'] = dataset.apply(lambda row: generate_captains_score(), axis=1)"
   ]
  },
  {
   "cell_type": "markdown",
   "id": "7d180389-ddb0-4f67-80e0-e792334262e4",
   "metadata": {},
   "source": [
    "## Target Variable\n",
    "- 1 (Win): Means Team A is expected to win.\n",
    "- 0 (Loss): Means Team B is expected to win.\n",
    "- 2 (Draw): Means the match is likely to end in a draw."
   ]
  },
  {
   "cell_type": "code",
   "execution_count": 33,
   "id": "79f49ab0-8e0e-4b7c-84b9-6f3e766926a4",
   "metadata": {},
   "outputs": [],
   "source": [
    "def target(row):\n",
    "    # Add a small chance of misclassification\n",
    "    import random\n",
    "    if random.random() < 0.45:  # 45% noise\n",
    "        return random.choice([0, 1, 2])\n",
    "    else:\n",
    "        if row['Team_Batting_Average'] > row['Team_Bowling_Average'] + 10 and row['Recent_Form'] >= 3:\n",
    "            return 1  # Team A wins\n",
    "        elif row['Team_Bowling_Average'] > row['Team_Batting_Average'] and row['Recent_Form'] < 3:\n",
    "            return 0  # Team B wins\n",
    "        else:\n",
    "            return 2  # Draw"
   ]
  },
  {
   "cell_type": "code",
   "execution_count": 34,
   "id": "0ac23fd9-9bd5-4669-b6a1-e90b73af03dd",
   "metadata": {},
   "outputs": [],
   "source": [
    "dataset['Match_Outcome'] = dataset.apply(target, axis=1)"
   ]
  },
  {
   "cell_type": "code",
   "execution_count": 35,
   "id": "4c06e24e-ac68-4f87-8d4b-f66b32f4b421",
   "metadata": {},
   "outputs": [
    {
     "data": {
      "text/html": [
       "<div>\n",
       "<style scoped>\n",
       "    .dataframe tbody tr th:only-of-type {\n",
       "        vertical-align: middle;\n",
       "    }\n",
       "\n",
       "    .dataframe tbody tr th {\n",
       "        vertical-align: top;\n",
       "    }\n",
       "\n",
       "    .dataframe thead th {\n",
       "        text-align: right;\n",
       "    }\n",
       "</style>\n",
       "<table border=\"1\" class=\"dataframe\">\n",
       "  <thead>\n",
       "    <tr style=\"text-align: right;\">\n",
       "      <th></th>\n",
       "      <th>Match_Format</th>\n",
       "      <th>Team_Batting_Average</th>\n",
       "      <th>Pitch_Type</th>\n",
       "      <th>Team_Bowling_Average</th>\n",
       "      <th>Home_Away_Game</th>\n",
       "      <th>Recent_Form</th>\n",
       "      <th>Team_Experience</th>\n",
       "      <th>Batting_Depth</th>\n",
       "      <th>Bowling_Depth</th>\n",
       "      <th>Weather_Conditions</th>\n",
       "      <th>Toss_Winner</th>\n",
       "      <th>Batting_Strength</th>\n",
       "      <th>Bowling_Strength</th>\n",
       "      <th>Team_A_Country</th>\n",
       "      <th>Team_B_Country</th>\n",
       "      <th>Head_to_Head</th>\n",
       "      <th>Fielding_Efficiency</th>\n",
       "      <th>Captains_Score</th>\n",
       "      <th>Match_Outcome</th>\n",
       "    </tr>\n",
       "  </thead>\n",
       "  <tbody>\n",
       "    <tr>\n",
       "      <th>0</th>\n",
       "      <td>1</td>\n",
       "      <td>297</td>\n",
       "      <td>1</td>\n",
       "      <td>44</td>\n",
       "      <td>2</td>\n",
       "      <td>4</td>\n",
       "      <td>1060</td>\n",
       "      <td>6</td>\n",
       "      <td>5</td>\n",
       "      <td>Overcast</td>\n",
       "      <td>0</td>\n",
       "      <td>305</td>\n",
       "      <td>28</td>\n",
       "      <td>Sri Lanka</td>\n",
       "      <td>South Africa</td>\n",
       "      <td>0.611561</td>\n",
       "      <td>0.930467</td>\n",
       "      <td>5</td>\n",
       "      <td>1</td>\n",
       "    </tr>\n",
       "    <tr>\n",
       "      <th>1</th>\n",
       "      <td>2</td>\n",
       "      <td>191</td>\n",
       "      <td>0</td>\n",
       "      <td>35</td>\n",
       "      <td>0</td>\n",
       "      <td>5</td>\n",
       "      <td>1137</td>\n",
       "      <td>10</td>\n",
       "      <td>4</td>\n",
       "      <td>Overcast</td>\n",
       "      <td>1</td>\n",
       "      <td>355</td>\n",
       "      <td>24</td>\n",
       "      <td>Ireland</td>\n",
       "      <td>West Indies</td>\n",
       "      <td>4.925231</td>\n",
       "      <td>0.779202</td>\n",
       "      <td>4</td>\n",
       "      <td>1</td>\n",
       "    </tr>\n",
       "    <tr>\n",
       "      <th>2</th>\n",
       "      <td>2</td>\n",
       "      <td>181</td>\n",
       "      <td>2</td>\n",
       "      <td>28</td>\n",
       "      <td>1</td>\n",
       "      <td>3</td>\n",
       "      <td>1187</td>\n",
       "      <td>11</td>\n",
       "      <td>3</td>\n",
       "      <td>Sunny</td>\n",
       "      <td>0</td>\n",
       "      <td>397</td>\n",
       "      <td>15</td>\n",
       "      <td>West Indies</td>\n",
       "      <td>Ireland</td>\n",
       "      <td>1.809952</td>\n",
       "      <td>0.518620</td>\n",
       "      <td>1</td>\n",
       "      <td>2</td>\n",
       "    </tr>\n",
       "    <tr>\n",
       "      <th>3</th>\n",
       "      <td>1</td>\n",
       "      <td>278</td>\n",
       "      <td>0</td>\n",
       "      <td>33</td>\n",
       "      <td>0</td>\n",
       "      <td>4</td>\n",
       "      <td>647</td>\n",
       "      <td>7</td>\n",
       "      <td>5</td>\n",
       "      <td>Sunny</td>\n",
       "      <td>1</td>\n",
       "      <td>330</td>\n",
       "      <td>29</td>\n",
       "      <td>Ireland</td>\n",
       "      <td>Sri Lanka</td>\n",
       "      <td>3.299185</td>\n",
       "      <td>0.915704</td>\n",
       "      <td>3</td>\n",
       "      <td>1</td>\n",
       "    </tr>\n",
       "    <tr>\n",
       "      <th>4</th>\n",
       "      <td>0</td>\n",
       "      <td>316</td>\n",
       "      <td>1</td>\n",
       "      <td>35</td>\n",
       "      <td>0</td>\n",
       "      <td>3</td>\n",
       "      <td>1147</td>\n",
       "      <td>6</td>\n",
       "      <td>4</td>\n",
       "      <td>Sunny</td>\n",
       "      <td>0</td>\n",
       "      <td>212</td>\n",
       "      <td>33</td>\n",
       "      <td>New Zealand</td>\n",
       "      <td>Afghanistan</td>\n",
       "      <td>4.159099</td>\n",
       "      <td>0.581732</td>\n",
       "      <td>9</td>\n",
       "      <td>2</td>\n",
       "    </tr>\n",
       "  </tbody>\n",
       "</table>\n",
       "</div>"
      ],
      "text/plain": [
       "   Match_Format  Team_Batting_Average  Pitch_Type  Team_Bowling_Average  \\\n",
       "0             1                   297           1                    44   \n",
       "1             2                   191           0                    35   \n",
       "2             2                   181           2                    28   \n",
       "3             1                   278           0                    33   \n",
       "4             0                   316           1                    35   \n",
       "\n",
       "   Home_Away_Game  Recent_Form  Team_Experience  Batting_Depth  Bowling_Depth  \\\n",
       "0               2            4             1060              6              5   \n",
       "1               0            5             1137             10              4   \n",
       "2               1            3             1187             11              3   \n",
       "3               0            4              647              7              5   \n",
       "4               0            3             1147              6              4   \n",
       "\n",
       "  Weather_Conditions  Toss_Winner  Batting_Strength  Bowling_Strength  \\\n",
       "0           Overcast            0               305                28   \n",
       "1           Overcast            1               355                24   \n",
       "2              Sunny            0               397                15   \n",
       "3              Sunny            1               330                29   \n",
       "4              Sunny            0               212                33   \n",
       "\n",
       "  Team_A_Country Team_B_Country  Head_to_Head  Fielding_Efficiency  \\\n",
       "0      Sri Lanka   South Africa      0.611561             0.930467   \n",
       "1        Ireland    West Indies      4.925231             0.779202   \n",
       "2    West Indies        Ireland      1.809952             0.518620   \n",
       "3        Ireland      Sri Lanka      3.299185             0.915704   \n",
       "4    New Zealand    Afghanistan      4.159099             0.581732   \n",
       "\n",
       "   Captains_Score  Match_Outcome  \n",
       "0               5              1  \n",
       "1               4              1  \n",
       "2               1              2  \n",
       "3               3              1  \n",
       "4               9              2  "
      ]
     },
     "execution_count": 35,
     "metadata": {},
     "output_type": "execute_result"
    }
   ],
   "source": [
    "dataset.head()"
   ]
  },
  {
   "cell_type": "code",
   "execution_count": 36,
   "id": "eedbc7da-89b4-4be6-a031-bdba2d54f9e8",
   "metadata": {},
   "outputs": [
    {
     "data": {
      "text/plain": [
       "Index(['Match_Format', 'Team_Batting_Average', 'Pitch_Type',\n",
       "       'Team_Bowling_Average', 'Home_Away_Game', 'Recent_Form',\n",
       "       'Team_Experience', 'Batting_Depth', 'Bowling_Depth',\n",
       "       'Weather_Conditions', 'Toss_Winner', 'Batting_Strength',\n",
       "       'Bowling_Strength', 'Team_A_Country', 'Team_B_Country', 'Head_to_Head',\n",
       "       'Fielding_Efficiency', 'Captains_Score', 'Match_Outcome'],\n",
       "      dtype='object')"
      ]
     },
     "execution_count": 36,
     "metadata": {},
     "output_type": "execute_result"
    }
   ],
   "source": [
    "dataset.columns"
   ]
  },
  {
   "cell_type": "code",
   "execution_count": 37,
   "id": "24ffbb16-78c3-4258-b4a9-cfaccff4987f",
   "metadata": {},
   "outputs": [
    {
     "data": {
      "text/html": [
       "<div>\n",
       "<style scoped>\n",
       "    .dataframe tbody tr th:only-of-type {\n",
       "        vertical-align: middle;\n",
       "    }\n",
       "\n",
       "    .dataframe tbody tr th {\n",
       "        vertical-align: top;\n",
       "    }\n",
       "\n",
       "    .dataframe thead th {\n",
       "        text-align: right;\n",
       "    }\n",
       "</style>\n",
       "<table border=\"1\" class=\"dataframe\">\n",
       "  <thead>\n",
       "    <tr style=\"text-align: right;\">\n",
       "      <th></th>\n",
       "      <th>Match_Format</th>\n",
       "      <th>Team_Batting_Average</th>\n",
       "      <th>Pitch_Type</th>\n",
       "      <th>Team_Bowling_Average</th>\n",
       "      <th>Home_Away_Game</th>\n",
       "      <th>Recent_Form</th>\n",
       "      <th>Team_Experience</th>\n",
       "      <th>Batting_Depth</th>\n",
       "      <th>Bowling_Depth</th>\n",
       "      <th>Toss_Winner</th>\n",
       "      <th>Batting_Strength</th>\n",
       "      <th>Bowling_Strength</th>\n",
       "      <th>Head_to_Head</th>\n",
       "      <th>Fielding_Efficiency</th>\n",
       "      <th>Captains_Score</th>\n",
       "      <th>Match_Outcome</th>\n",
       "    </tr>\n",
       "  </thead>\n",
       "  <tbody>\n",
       "    <tr>\n",
       "      <th>count</th>\n",
       "      <td>100000.000000</td>\n",
       "      <td>100000.000000</td>\n",
       "      <td>100000.000000</td>\n",
       "      <td>100000.000000</td>\n",
       "      <td>100000.00000</td>\n",
       "      <td>100000.000000</td>\n",
       "      <td>100000.000000</td>\n",
       "      <td>100000.000000</td>\n",
       "      <td>100000.000000</td>\n",
       "      <td>100000.00000</td>\n",
       "      <td>100000.000000</td>\n",
       "      <td>100000.000000</td>\n",
       "      <td>100000.000000</td>\n",
       "      <td>100000.000000</td>\n",
       "      <td>100000.00000</td>\n",
       "      <td>100000.000000</td>\n",
       "    </tr>\n",
       "    <tr>\n",
       "      <th>mean</th>\n",
       "      <td>1.098750</td>\n",
       "      <td>263.810150</td>\n",
       "      <td>0.899310</td>\n",
       "      <td>35.833300</td>\n",
       "      <td>0.89641</td>\n",
       "      <td>2.600560</td>\n",
       "      <td>983.284330</td>\n",
       "      <td>7.602910</td>\n",
       "      <td>4.049020</td>\n",
       "      <td>0.50359</td>\n",
       "      <td>324.320700</td>\n",
       "      <td>25.006640</td>\n",
       "      <td>2.540877</td>\n",
       "      <td>0.750154</td>\n",
       "      <td>5.49706</td>\n",
       "      <td>1.251000</td>\n",
       "    </tr>\n",
       "    <tr>\n",
       "      <th>std</th>\n",
       "      <td>0.699488</td>\n",
       "      <td>82.154655</td>\n",
       "      <td>0.830842</td>\n",
       "      <td>8.804405</td>\n",
       "      <td>0.70076</td>\n",
       "      <td>1.460845</td>\n",
       "      <td>298.529668</td>\n",
       "      <td>1.833849</td>\n",
       "      <td>0.901468</td>\n",
       "      <td>0.49999</td>\n",
       "      <td>47.065066</td>\n",
       "      <td>5.946541</td>\n",
       "      <td>1.414616</td>\n",
       "      <td>0.144288</td>\n",
       "      <td>2.87488</td>\n",
       "      <td>0.693285</td>\n",
       "    </tr>\n",
       "    <tr>\n",
       "      <th>min</th>\n",
       "      <td>0.000000</td>\n",
       "      <td>120.000000</td>\n",
       "      <td>0.000000</td>\n",
       "      <td>20.000000</td>\n",
       "      <td>0.00000</td>\n",
       "      <td>0.000000</td>\n",
       "      <td>500.000000</td>\n",
       "      <td>5.000000</td>\n",
       "      <td>3.000000</td>\n",
       "      <td>0.00000</td>\n",
       "      <td>200.000000</td>\n",
       "      <td>15.000000</td>\n",
       "      <td>0.100051</td>\n",
       "      <td>0.500000</td>\n",
       "      <td>1.00000</td>\n",
       "      <td>0.000000</td>\n",
       "    </tr>\n",
       "    <tr>\n",
       "      <th>25%</th>\n",
       "      <td>1.000000</td>\n",
       "      <td>202.000000</td>\n",
       "      <td>0.000000</td>\n",
       "      <td>29.000000</td>\n",
       "      <td>0.00000</td>\n",
       "      <td>2.000000</td>\n",
       "      <td>714.000000</td>\n",
       "      <td>6.000000</td>\n",
       "      <td>3.000000</td>\n",
       "      <td>0.00000</td>\n",
       "      <td>304.000000</td>\n",
       "      <td>21.000000</td>\n",
       "      <td>1.315464</td>\n",
       "      <td>0.625526</td>\n",
       "      <td>3.00000</td>\n",
       "      <td>1.000000</td>\n",
       "    </tr>\n",
       "    <tr>\n",
       "      <th>50%</th>\n",
       "      <td>1.000000</td>\n",
       "      <td>261.000000</td>\n",
       "      <td>1.000000</td>\n",
       "      <td>35.000000</td>\n",
       "      <td>1.00000</td>\n",
       "      <td>3.000000</td>\n",
       "      <td>972.000000</td>\n",
       "      <td>7.000000</td>\n",
       "      <td>4.000000</td>\n",
       "      <td>1.00000</td>\n",
       "      <td>329.000000</td>\n",
       "      <td>24.000000</td>\n",
       "      <td>2.543082</td>\n",
       "      <td>0.750123</td>\n",
       "      <td>5.00000</td>\n",
       "      <td>1.000000</td>\n",
       "    </tr>\n",
       "    <tr>\n",
       "      <th>75%</th>\n",
       "      <td>2.000000</td>\n",
       "      <td>325.000000</td>\n",
       "      <td>2.000000</td>\n",
       "      <td>42.000000</td>\n",
       "      <td>1.00000</td>\n",
       "      <td>4.000000</td>\n",
       "      <td>1251.000000</td>\n",
       "      <td>9.000000</td>\n",
       "      <td>5.000000</td>\n",
       "      <td>1.00000</td>\n",
       "      <td>358.000000</td>\n",
       "      <td>29.000000</td>\n",
       "      <td>3.766913</td>\n",
       "      <td>0.874768</td>\n",
       "      <td>8.00000</td>\n",
       "      <td>2.000000</td>\n",
       "    </tr>\n",
       "    <tr>\n",
       "      <th>max</th>\n",
       "      <td>2.000000</td>\n",
       "      <td>450.000000</td>\n",
       "      <td>2.000000</td>\n",
       "      <td>55.000000</td>\n",
       "      <td>2.00000</td>\n",
       "      <td>5.000000</td>\n",
       "      <td>1500.000000</td>\n",
       "      <td>11.000000</td>\n",
       "      <td>6.000000</td>\n",
       "      <td>1.00000</td>\n",
       "      <td>399.000000</td>\n",
       "      <td>39.000000</td>\n",
       "      <td>4.999954</td>\n",
       "      <td>0.999998</td>\n",
       "      <td>10.00000</td>\n",
       "      <td>2.000000</td>\n",
       "    </tr>\n",
       "  </tbody>\n",
       "</table>\n",
       "</div>"
      ],
      "text/plain": [
       "        Match_Format  Team_Batting_Average     Pitch_Type  \\\n",
       "count  100000.000000         100000.000000  100000.000000   \n",
       "mean        1.098750            263.810150       0.899310   \n",
       "std         0.699488             82.154655       0.830842   \n",
       "min         0.000000            120.000000       0.000000   \n",
       "25%         1.000000            202.000000       0.000000   \n",
       "50%         1.000000            261.000000       1.000000   \n",
       "75%         2.000000            325.000000       2.000000   \n",
       "max         2.000000            450.000000       2.000000   \n",
       "\n",
       "       Team_Bowling_Average  Home_Away_Game    Recent_Form  Team_Experience  \\\n",
       "count         100000.000000    100000.00000  100000.000000    100000.000000   \n",
       "mean              35.833300         0.89641       2.600560       983.284330   \n",
       "std                8.804405         0.70076       1.460845       298.529668   \n",
       "min               20.000000         0.00000       0.000000       500.000000   \n",
       "25%               29.000000         0.00000       2.000000       714.000000   \n",
       "50%               35.000000         1.00000       3.000000       972.000000   \n",
       "75%               42.000000         1.00000       4.000000      1251.000000   \n",
       "max               55.000000         2.00000       5.000000      1500.000000   \n",
       "\n",
       "       Batting_Depth  Bowling_Depth   Toss_Winner  Batting_Strength  \\\n",
       "count  100000.000000  100000.000000  100000.00000     100000.000000   \n",
       "mean        7.602910       4.049020       0.50359        324.320700   \n",
       "std         1.833849       0.901468       0.49999         47.065066   \n",
       "min         5.000000       3.000000       0.00000        200.000000   \n",
       "25%         6.000000       3.000000       0.00000        304.000000   \n",
       "50%         7.000000       4.000000       1.00000        329.000000   \n",
       "75%         9.000000       5.000000       1.00000        358.000000   \n",
       "max        11.000000       6.000000       1.00000        399.000000   \n",
       "\n",
       "       Bowling_Strength   Head_to_Head  Fielding_Efficiency  Captains_Score  \\\n",
       "count     100000.000000  100000.000000        100000.000000    100000.00000   \n",
       "mean          25.006640       2.540877             0.750154         5.49706   \n",
       "std            5.946541       1.414616             0.144288         2.87488   \n",
       "min           15.000000       0.100051             0.500000         1.00000   \n",
       "25%           21.000000       1.315464             0.625526         3.00000   \n",
       "50%           24.000000       2.543082             0.750123         5.00000   \n",
       "75%           29.000000       3.766913             0.874768         8.00000   \n",
       "max           39.000000       4.999954             0.999998        10.00000   \n",
       "\n",
       "       Match_Outcome  \n",
       "count  100000.000000  \n",
       "mean        1.251000  \n",
       "std         0.693285  \n",
       "min         0.000000  \n",
       "25%         1.000000  \n",
       "50%         1.000000  \n",
       "75%         2.000000  \n",
       "max         2.000000  "
      ]
     },
     "execution_count": 37,
     "metadata": {},
     "output_type": "execute_result"
    }
   ],
   "source": [
    "dataset.describe()"
   ]
  },
  {
   "cell_type": "code",
   "execution_count": 38,
   "id": "e23331ac-c807-4561-b5cc-77e9a5301892",
   "metadata": {},
   "outputs": [
    {
     "name": "stdout",
     "output_type": "stream",
     "text": [
      "<class 'pandas.core.frame.DataFrame'>\n",
      "RangeIndex: 100000 entries, 0 to 99999\n",
      "Data columns (total 19 columns):\n",
      " #   Column                Non-Null Count   Dtype  \n",
      "---  ------                --------------   -----  \n",
      " 0   Match_Format          100000 non-null  int64  \n",
      " 1   Team_Batting_Average  100000 non-null  int64  \n",
      " 2   Pitch_Type            100000 non-null  int64  \n",
      " 3   Team_Bowling_Average  100000 non-null  int64  \n",
      " 4   Home_Away_Game        100000 non-null  int64  \n",
      " 5   Recent_Form           100000 non-null  int64  \n",
      " 6   Team_Experience       100000 non-null  int64  \n",
      " 7   Batting_Depth         100000 non-null  int64  \n",
      " 8   Bowling_Depth         100000 non-null  int64  \n",
      " 9   Weather_Conditions    100000 non-null  object \n",
      " 10  Toss_Winner           100000 non-null  int64  \n",
      " 11  Batting_Strength      100000 non-null  int64  \n",
      " 12  Bowling_Strength      100000 non-null  int64  \n",
      " 13  Team_A_Country        100000 non-null  object \n",
      " 14  Team_B_Country        100000 non-null  object \n",
      " 15  Head_to_Head          100000 non-null  float64\n",
      " 16  Fielding_Efficiency   100000 non-null  float64\n",
      " 17  Captains_Score        100000 non-null  int64  \n",
      " 18  Match_Outcome         100000 non-null  int64  \n",
      "dtypes: float64(2), int64(14), object(3)\n",
      "memory usage: 14.5+ MB\n"
     ]
    }
   ],
   "source": [
    "dataset.info()"
   ]
  },
  {
   "cell_type": "code",
   "execution_count": 39,
   "id": "cb45cb6d-eed0-48f9-a88a-4d7617ab3d87",
   "metadata": {},
   "outputs": [
    {
     "data": {
      "text/plain": [
       "Match_Format              int64\n",
       "Team_Batting_Average      int64\n",
       "Pitch_Type                int64\n",
       "Team_Bowling_Average      int64\n",
       "Home_Away_Game            int64\n",
       "Recent_Form               int64\n",
       "Team_Experience           int64\n",
       "Batting_Depth             int64\n",
       "Bowling_Depth             int64\n",
       "Weather_Conditions       object\n",
       "Toss_Winner               int64\n",
       "Batting_Strength          int64\n",
       "Bowling_Strength          int64\n",
       "Team_A_Country           object\n",
       "Team_B_Country           object\n",
       "Head_to_Head            float64\n",
       "Fielding_Efficiency     float64\n",
       "Captains_Score            int64\n",
       "Match_Outcome             int64\n",
       "dtype: object"
      ]
     },
     "execution_count": 39,
     "metadata": {},
     "output_type": "execute_result"
    }
   ],
   "source": [
    "dataset.dtypes"
   ]
  },
  {
   "cell_type": "code",
   "execution_count": 40,
   "id": "1ba7dd89-7b0e-4022-93d1-0e7a68e3e56c",
   "metadata": {},
   "outputs": [
    {
     "data": {
      "text/html": [
       "<div>\n",
       "<style scoped>\n",
       "    .dataframe tbody tr th:only-of-type {\n",
       "        vertical-align: middle;\n",
       "    }\n",
       "\n",
       "    .dataframe tbody tr th {\n",
       "        vertical-align: top;\n",
       "    }\n",
       "\n",
       "    .dataframe thead th {\n",
       "        text-align: right;\n",
       "    }\n",
       "</style>\n",
       "<table border=\"1\" class=\"dataframe\">\n",
       "  <thead>\n",
       "    <tr style=\"text-align: right;\">\n",
       "      <th></th>\n",
       "      <th>Match_Format</th>\n",
       "      <th>Team_Batting_Average</th>\n",
       "      <th>Pitch_Type</th>\n",
       "      <th>Team_Bowling_Average</th>\n",
       "      <th>Home_Away_Game</th>\n",
       "      <th>Recent_Form</th>\n",
       "      <th>Team_Experience</th>\n",
       "      <th>Batting_Depth</th>\n",
       "      <th>Bowling_Depth</th>\n",
       "      <th>Weather_Conditions</th>\n",
       "      <th>Toss_Winner</th>\n",
       "      <th>Batting_Strength</th>\n",
       "      <th>Bowling_Strength</th>\n",
       "      <th>Team_A_Country</th>\n",
       "      <th>Team_B_Country</th>\n",
       "      <th>Head_to_Head</th>\n",
       "      <th>Fielding_Efficiency</th>\n",
       "      <th>Captains_Score</th>\n",
       "      <th>Match_Outcome</th>\n",
       "    </tr>\n",
       "  </thead>\n",
       "  <tbody>\n",
       "    <tr>\n",
       "      <th>99995</th>\n",
       "      <td>2</td>\n",
       "      <td>127</td>\n",
       "      <td>0</td>\n",
       "      <td>41</td>\n",
       "      <td>1</td>\n",
       "      <td>0</td>\n",
       "      <td>679</td>\n",
       "      <td>11</td>\n",
       "      <td>3</td>\n",
       "      <td>Overcast</td>\n",
       "      <td>1</td>\n",
       "      <td>361</td>\n",
       "      <td>22</td>\n",
       "      <td>Zimbabwe</td>\n",
       "      <td>Bangladesh</td>\n",
       "      <td>4.764504</td>\n",
       "      <td>0.674790</td>\n",
       "      <td>8</td>\n",
       "      <td>2</td>\n",
       "    </tr>\n",
       "    <tr>\n",
       "      <th>99996</th>\n",
       "      <td>2</td>\n",
       "      <td>219</td>\n",
       "      <td>0</td>\n",
       "      <td>41</td>\n",
       "      <td>1</td>\n",
       "      <td>4</td>\n",
       "      <td>1263</td>\n",
       "      <td>9</td>\n",
       "      <td>3</td>\n",
       "      <td>Sunny</td>\n",
       "      <td>0</td>\n",
       "      <td>391</td>\n",
       "      <td>22</td>\n",
       "      <td>Sri Lanka</td>\n",
       "      <td>South Africa</td>\n",
       "      <td>2.286204</td>\n",
       "      <td>0.979679</td>\n",
       "      <td>9</td>\n",
       "      <td>1</td>\n",
       "    </tr>\n",
       "    <tr>\n",
       "      <th>99997</th>\n",
       "      <td>1</td>\n",
       "      <td>211</td>\n",
       "      <td>2</td>\n",
       "      <td>25</td>\n",
       "      <td>0</td>\n",
       "      <td>3</td>\n",
       "      <td>1416</td>\n",
       "      <td>6</td>\n",
       "      <td>3</td>\n",
       "      <td>Humid</td>\n",
       "      <td>1</td>\n",
       "      <td>307</td>\n",
       "      <td>28</td>\n",
       "      <td>Sri Lanka</td>\n",
       "      <td>Australia</td>\n",
       "      <td>3.318669</td>\n",
       "      <td>0.961371</td>\n",
       "      <td>3</td>\n",
       "      <td>2</td>\n",
       "    </tr>\n",
       "    <tr>\n",
       "      <th>99998</th>\n",
       "      <td>1</td>\n",
       "      <td>266</td>\n",
       "      <td>1</td>\n",
       "      <td>35</td>\n",
       "      <td>0</td>\n",
       "      <td>2</td>\n",
       "      <td>1307</td>\n",
       "      <td>8</td>\n",
       "      <td>3</td>\n",
       "      <td>Humid</td>\n",
       "      <td>0</td>\n",
       "      <td>300</td>\n",
       "      <td>29</td>\n",
       "      <td>New Zealand</td>\n",
       "      <td>India</td>\n",
       "      <td>1.154285</td>\n",
       "      <td>0.509006</td>\n",
       "      <td>1</td>\n",
       "      <td>2</td>\n",
       "    </tr>\n",
       "    <tr>\n",
       "      <th>99999</th>\n",
       "      <td>1</td>\n",
       "      <td>330</td>\n",
       "      <td>0</td>\n",
       "      <td>40</td>\n",
       "      <td>1</td>\n",
       "      <td>3</td>\n",
       "      <td>540</td>\n",
       "      <td>8</td>\n",
       "      <td>4</td>\n",
       "      <td>Rainy</td>\n",
       "      <td>0</td>\n",
       "      <td>315</td>\n",
       "      <td>25</td>\n",
       "      <td>England</td>\n",
       "      <td>Australia</td>\n",
       "      <td>0.653475</td>\n",
       "      <td>0.914466</td>\n",
       "      <td>3</td>\n",
       "      <td>2</td>\n",
       "    </tr>\n",
       "  </tbody>\n",
       "</table>\n",
       "</div>"
      ],
      "text/plain": [
       "       Match_Format  Team_Batting_Average  Pitch_Type  Team_Bowling_Average  \\\n",
       "99995             2                   127           0                    41   \n",
       "99996             2                   219           0                    41   \n",
       "99997             1                   211           2                    25   \n",
       "99998             1                   266           1                    35   \n",
       "99999             1                   330           0                    40   \n",
       "\n",
       "       Home_Away_Game  Recent_Form  Team_Experience  Batting_Depth  \\\n",
       "99995               1            0              679             11   \n",
       "99996               1            4             1263              9   \n",
       "99997               0            3             1416              6   \n",
       "99998               0            2             1307              8   \n",
       "99999               1            3              540              8   \n",
       "\n",
       "       Bowling_Depth Weather_Conditions  Toss_Winner  Batting_Strength  \\\n",
       "99995              3           Overcast            1               361   \n",
       "99996              3              Sunny            0               391   \n",
       "99997              3              Humid            1               307   \n",
       "99998              3              Humid            0               300   \n",
       "99999              4              Rainy            0               315   \n",
       "\n",
       "       Bowling_Strength Team_A_Country Team_B_Country  Head_to_Head  \\\n",
       "99995                22       Zimbabwe     Bangladesh      4.764504   \n",
       "99996                22      Sri Lanka   South Africa      2.286204   \n",
       "99997                28      Sri Lanka      Australia      3.318669   \n",
       "99998                29    New Zealand          India      1.154285   \n",
       "99999                25        England      Australia      0.653475   \n",
       "\n",
       "       Fielding_Efficiency  Captains_Score  Match_Outcome  \n",
       "99995             0.674790               8              2  \n",
       "99996             0.979679               9              1  \n",
       "99997             0.961371               3              2  \n",
       "99998             0.509006               1              2  \n",
       "99999             0.914466               3              2  "
      ]
     },
     "execution_count": 40,
     "metadata": {},
     "output_type": "execute_result"
    }
   ],
   "source": [
    "dataset.tail()"
   ]
  },
  {
   "cell_type": "code",
   "execution_count": 41,
   "id": "d7b41d2c-dedc-4921-9965-69c6c0426cef",
   "metadata": {},
   "outputs": [
    {
     "data": {
      "text/plain": [
       "Match_Outcome\n",
       "1    45636\n",
       "2    39732\n",
       "0    14632\n",
       "Name: count, dtype: int64"
      ]
     },
     "execution_count": 41,
     "metadata": {},
     "output_type": "execute_result"
    }
   ],
   "source": [
    "dataset['Match_Outcome'].value_counts()"
   ]
  },
  {
   "cell_type": "markdown",
   "id": "4d1e109f-8f9b-4518-9b49-445dd3dc7bfa",
   "metadata": {},
   "source": [
    "## **Saving The CSV File**"
   ]
  },
  {
   "cell_type": "code",
   "execution_count": 42,
   "id": "fcff575c-760e-434b-b067-6f464ee56477",
   "metadata": {},
   "outputs": [],
   "source": [
    "dataset.to_csv(\"Match_Prediction.csv\", index=False)"
   ]
  },
  {
   "cell_type": "code",
   "execution_count": null,
   "id": "a4ad0909-c176-423d-a423-022e9db14d2d",
   "metadata": {},
   "outputs": [],
   "source": []
  }
 ],
 "metadata": {
  "kernelspec": {
   "display_name": "Python 3 (ipykernel)",
   "language": "python",
   "name": "python3"
  },
  "language_info": {
   "codemirror_mode": {
    "name": "ipython",
    "version": 3
   },
   "file_extension": ".py",
   "mimetype": "text/x-python",
   "name": "python",
   "nbconvert_exporter": "python",
   "pygments_lexer": "ipython3",
   "version": "3.12.7"
  }
 },
 "nbformat": 4,
 "nbformat_minor": 5
}
